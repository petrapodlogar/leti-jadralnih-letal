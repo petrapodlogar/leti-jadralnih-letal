{
 "cells": [
  {
   "cell_type": "markdown",
   "metadata": {},
   "source": [
    "# Leti jadralnih letal"
   ]
  },
  {
   "cell_type": "markdown",
   "metadata": {},
   "source": [
    "Za projekt pri predmetu Programiranje 1 bom analizirala lete jadralnih letal. Podatke sem dobila na strani [Online Contest](https://www.onlinecontest.org/olc-2.0/gliding/airfieldRanking.html?st=olc-league&rt=olc&c=SI&sc=&sp=2017), kjer sem zajela vse lete, ki so se začeli na slovenskih letališčih v sezoni 2017."
   ]
  },
  {
   "cell_type": "markdown",
   "metadata": {},
   "source": [
    "## Zajeti podatki"
   ]
  },
  {
   "cell_type": "markdown",
   "metadata": {},
   "source": [
    "- datum\n",
    "- točke\n",
    "- ime pilota\n",
    "- država pilota\n",
    "- dolžina leta\n",
    "- hitrost\n",
    "- klub\n",
    "- letalo\n",
    "- vzlet\n",
    "- pristanek\n",
    "- letališče"
   ]
  },
  {
   "cell_type": "markdown",
   "metadata": {},
   "source": [
    "## Analiza"
   ]
  },
  {
   "cell_type": "code",
   "execution_count": 106,
   "metadata": {
    "collapsed": true
   },
   "outputs": [],
   "source": [
    "import pandas as pd\n",
    "import numpy as  np\n",
    "import datetime\n",
    "import matplotlib.pyplot as plt\n",
    "%matplotlib inline\n",
    "\n",
    "pd.options.display.max_rows = 20\n",
    "\n",
    "leti = pd.read_csv('leti.csv')\n",
    "leti['Datum'] = pd.to_datetime(leti['Datum'], dayfirst=True)\n",
    "\n",
    "# leti.set_index(leti.Datum, inplace=True)"
   ]
  },
  {
   "cell_type": "markdown",
   "metadata": {},
   "source": [
    "Najprej si oglejmo podatke."
   ]
  },
  {
   "cell_type": "code",
   "execution_count": 107,
   "metadata": {},
   "outputs": [
    {
     "data": {
      "text/html": [
       "<div>\n",
       "<style>\n",
       "    .dataframe thead tr:only-child th {\n",
       "        text-align: right;\n",
       "    }\n",
       "\n",
       "    .dataframe thead th {\n",
       "        text-align: left;\n",
       "    }\n",
       "\n",
       "    .dataframe tbody tr th {\n",
       "        vertical-align: top;\n",
       "    }\n",
       "</style>\n",
       "<table border=\"1\" class=\"dataframe\">\n",
       "  <thead>\n",
       "    <tr style=\"text-align: right;\">\n",
       "      <th></th>\n",
       "      <th>Datum</th>\n",
       "      <th>Točke</th>\n",
       "      <th>Ime</th>\n",
       "      <th>Država</th>\n",
       "      <th>Dolžina [km]</th>\n",
       "      <th>Hitrost [km/h]</th>\n",
       "      <th>Klub</th>\n",
       "      <th>Letalo</th>\n",
       "      <th>Vzlet</th>\n",
       "      <th>Pristanek</th>\n",
       "      <th>Letališče</th>\n",
       "    </tr>\n",
       "  </thead>\n",
       "  <tbody>\n",
       "    <tr>\n",
       "      <th>0</th>\n",
       "      <td>2017-08-31</td>\n",
       "      <td>115.55</td>\n",
       "      <td>Jure Sirok</td>\n",
       "      <td>SI</td>\n",
       "      <td>81.30</td>\n",
       "      <td>51.24</td>\n",
       "      <td>AK Edvard Rusjan</td>\n",
       "      <td>L 13 Blanik</td>\n",
       "      <td>11:55</td>\n",
       "      <td>13:41</td>\n",
       "      <td>Ajdovščina</td>\n",
       "    </tr>\n",
       "    <tr>\n",
       "      <th>1</th>\n",
       "      <td>2017-08-15</td>\n",
       "      <td>175.14</td>\n",
       "      <td>Sandi Stanic</td>\n",
       "      <td>SI</td>\n",
       "      <td>163.82</td>\n",
       "      <td>62.43</td>\n",
       "      <td>AK Edvard Rusjan</td>\n",
       "      <td>SZD 55</td>\n",
       "      <td>13:05</td>\n",
       "      <td>15:51</td>\n",
       "      <td>Ajdovščina</td>\n",
       "    </tr>\n",
       "    <tr>\n",
       "      <th>2</th>\n",
       "      <td>2017-08-15</td>\n",
       "      <td>150.70</td>\n",
       "      <td>Aljaž Ogrin</td>\n",
       "      <td>SI</td>\n",
       "      <td>102.85</td>\n",
       "      <td>43.90</td>\n",
       "      <td>AK Josip Krizaj Ajdovscina</td>\n",
       "      <td>L 23 Super Blanik</td>\n",
       "      <td>11:54</td>\n",
       "      <td>14:39</td>\n",
       "      <td>Ajdovščina</td>\n",
       "    </tr>\n",
       "    <tr>\n",
       "      <th>3</th>\n",
       "      <td>2017-08-15</td>\n",
       "      <td>147.97</td>\n",
       "      <td>Darjo Gregoric</td>\n",
       "      <td>SI</td>\n",
       "      <td>116.64</td>\n",
       "      <td>55.02</td>\n",
       "      <td>AK Edvard Rusjan</td>\n",
       "      <td>Twin Astir RG</td>\n",
       "      <td>12:33</td>\n",
       "      <td>15:14</td>\n",
       "      <td>Ajdovščina</td>\n",
       "    </tr>\n",
       "    <tr>\n",
       "      <th>4</th>\n",
       "      <td>2017-08-01</td>\n",
       "      <td>152.25</td>\n",
       "      <td>Aljaž Ogrin</td>\n",
       "      <td>SI</td>\n",
       "      <td>104.78</td>\n",
       "      <td>48.42</td>\n",
       "      <td>AK Josip Krizaj Ajdovscina</td>\n",
       "      <td>L 13 Blanik</td>\n",
       "      <td>11:51</td>\n",
       "      <td>14:34</td>\n",
       "      <td>Ajdovščina</td>\n",
       "    </tr>\n",
       "    <tr>\n",
       "      <th>5</th>\n",
       "      <td>2017-07-28</td>\n",
       "      <td>0.00</td>\n",
       "      <td>Aljaž Ogrin</td>\n",
       "      <td>SI</td>\n",
       "      <td>218.66</td>\n",
       "      <td>48.81</td>\n",
       "      <td>AK Josip Krizaj Ajdovscina</td>\n",
       "      <td>DG 100</td>\n",
       "      <td>10:57</td>\n",
       "      <td>15:38</td>\n",
       "      <td>Ajdovščina</td>\n",
       "    </tr>\n",
       "    <tr>\n",
       "      <th>6</th>\n",
       "      <td>2017-07-19</td>\n",
       "      <td>0.00</td>\n",
       "      <td>Aljaž Ogrin</td>\n",
       "      <td>SI</td>\n",
       "      <td>171.02</td>\n",
       "      <td>52.66</td>\n",
       "      <td>AK Josip Krizaj Ajdovscina</td>\n",
       "      <td>DG 100</td>\n",
       "      <td>10:59</td>\n",
       "      <td>14:53</td>\n",
       "      <td>Ajdovščina</td>\n",
       "    </tr>\n",
       "    <tr>\n",
       "      <th>7</th>\n",
       "      <td>2017-07-08</td>\n",
       "      <td>0.00</td>\n",
       "      <td>Aljaž Ogrin</td>\n",
       "      <td>SI</td>\n",
       "      <td>69.19</td>\n",
       "      <td>39.54</td>\n",
       "      <td>AK Josip Krizaj Ajdovscina</td>\n",
       "      <td>DG 100</td>\n",
       "      <td>13:15</td>\n",
       "      <td>15:33</td>\n",
       "      <td>Ajdovščina</td>\n",
       "    </tr>\n",
       "    <tr>\n",
       "      <th>8</th>\n",
       "      <td>2017-07-05</td>\n",
       "      <td>0.00</td>\n",
       "      <td>Jure Sirok</td>\n",
       "      <td>SI</td>\n",
       "      <td>71.41</td>\n",
       "      <td>28.29</td>\n",
       "      <td>AK Edvard Rusjan</td>\n",
       "      <td>L 13 Blanik</td>\n",
       "      <td>11:14</td>\n",
       "      <td>14:13</td>\n",
       "      <td>Ajdovščina</td>\n",
       "    </tr>\n",
       "    <tr>\n",
       "      <th>9</th>\n",
       "      <td>2017-07-05</td>\n",
       "      <td>0.00</td>\n",
       "      <td>Črtomir Pavlin</td>\n",
       "      <td>SI</td>\n",
       "      <td>118.22</td>\n",
       "      <td>38.79</td>\n",
       "      <td>AK Edvard Rusjan</td>\n",
       "      <td>Twin Astir RG</td>\n",
       "      <td>11:29</td>\n",
       "      <td>14:52</td>\n",
       "      <td>Ajdovščina</td>\n",
       "    </tr>\n",
       "    <tr>\n",
       "      <th>...</th>\n",
       "      <td>...</td>\n",
       "      <td>...</td>\n",
       "      <td>...</td>\n",
       "      <td>...</td>\n",
       "      <td>...</td>\n",
       "      <td>...</td>\n",
       "      <td>...</td>\n",
       "      <td>...</td>\n",
       "      <td>...</td>\n",
       "      <td>...</td>\n",
       "      <td>...</td>\n",
       "    </tr>\n",
       "    <tr>\n",
       "      <th>870</th>\n",
       "      <td>2017-06-19</td>\n",
       "      <td>355.31</td>\n",
       "      <td>Nikolaj Slana</td>\n",
       "      <td>SI</td>\n",
       "      <td>390.47</td>\n",
       "      <td>60.45</td>\n",
       "      <td>No Club</td>\n",
       "      <td>DG 800/18m</td>\n",
       "      <td>09:20</td>\n",
       "      <td>15:54</td>\n",
       "      <td>Velenje Lajše</td>\n",
       "    </tr>\n",
       "    <tr>\n",
       "      <th>871</th>\n",
       "      <td>2017-06-19</td>\n",
       "      <td>325.59</td>\n",
       "      <td>Ales Fink</td>\n",
       "      <td>SI</td>\n",
       "      <td>319.39</td>\n",
       "      <td>67.80</td>\n",
       "      <td>KAS</td>\n",
       "      <td>DG 500 20m</td>\n",
       "      <td>09:28</td>\n",
       "      <td>14:14</td>\n",
       "      <td>Velenje Lajše</td>\n",
       "    </tr>\n",
       "    <tr>\n",
       "      <th>872</th>\n",
       "      <td>2017-06-11</td>\n",
       "      <td>251.92</td>\n",
       "      <td>Joze Knap</td>\n",
       "      <td>SI</td>\n",
       "      <td>224.15</td>\n",
       "      <td>39.65</td>\n",
       "      <td>KAS</td>\n",
       "      <td>Astir CS</td>\n",
       "      <td>09:56</td>\n",
       "      <td>15:53</td>\n",
       "      <td>Velenje Lajše</td>\n",
       "    </tr>\n",
       "    <tr>\n",
       "      <th>873</th>\n",
       "      <td>2017-05-18</td>\n",
       "      <td>305.90</td>\n",
       "      <td>Nikolaj Slana</td>\n",
       "      <td>SI</td>\n",
       "      <td>337.23</td>\n",
       "      <td>61.24</td>\n",
       "      <td>No Club</td>\n",
       "      <td>DG 800/18m</td>\n",
       "      <td>09:24</td>\n",
       "      <td>15:03</td>\n",
       "      <td>Velenje Lajše</td>\n",
       "    </tr>\n",
       "    <tr>\n",
       "      <th>874</th>\n",
       "      <td>2017-04-30</td>\n",
       "      <td>464.85</td>\n",
       "      <td>Goran Hrustl</td>\n",
       "      <td>SI</td>\n",
       "      <td>464.28</td>\n",
       "      <td>73.83</td>\n",
       "      <td>AK-Gorenje</td>\n",
       "      <td>DG 300</td>\n",
       "      <td>09:40</td>\n",
       "      <td>16:15</td>\n",
       "      <td>Velenje Lajše</td>\n",
       "    </tr>\n",
       "    <tr>\n",
       "      <th>875</th>\n",
       "      <td>2017-04-30</td>\n",
       "      <td>384.94</td>\n",
       "      <td>Nikolaj Slana</td>\n",
       "      <td>SI</td>\n",
       "      <td>442.76</td>\n",
       "      <td>89.37</td>\n",
       "      <td>No Club</td>\n",
       "      <td>DG 800/18m</td>\n",
       "      <td>09:57</td>\n",
       "      <td>15:01</td>\n",
       "      <td>Velenje Lajše</td>\n",
       "    </tr>\n",
       "    <tr>\n",
       "      <th>876</th>\n",
       "      <td>2017-04-09</td>\n",
       "      <td>365.10</td>\n",
       "      <td>Goran Hrustl</td>\n",
       "      <td>SI</td>\n",
       "      <td>326.07</td>\n",
       "      <td>55.15</td>\n",
       "      <td>AK-Gorenje</td>\n",
       "      <td>DG 300</td>\n",
       "      <td>09:40</td>\n",
       "      <td>16:24</td>\n",
       "      <td>Velenje Lajše</td>\n",
       "    </tr>\n",
       "    <tr>\n",
       "      <th>877</th>\n",
       "      <td>2017-04-08</td>\n",
       "      <td>291.51</td>\n",
       "      <td>Goran Hrustl</td>\n",
       "      <td>SI</td>\n",
       "      <td>270.69</td>\n",
       "      <td>60.76</td>\n",
       "      <td>AK-Gorenje</td>\n",
       "      <td>DG 300</td>\n",
       "      <td>10:59</td>\n",
       "      <td>15:56</td>\n",
       "      <td>Velenje Lajše</td>\n",
       "    </tr>\n",
       "    <tr>\n",
       "      <th>878</th>\n",
       "      <td>2017-04-08</td>\n",
       "      <td>213.26</td>\n",
       "      <td>Joze Knap</td>\n",
       "      <td>SI</td>\n",
       "      <td>187.41</td>\n",
       "      <td>44.66</td>\n",
       "      <td>KAS</td>\n",
       "      <td>DG 505 6 Orion</td>\n",
       "      <td>11:11</td>\n",
       "      <td>15:54</td>\n",
       "      <td>Velenje Lajše</td>\n",
       "    </tr>\n",
       "    <tr>\n",
       "      <th>879</th>\n",
       "      <td>2017-03-22</td>\n",
       "      <td>0.00</td>\n",
       "      <td>Simone Poiani</td>\n",
       "      <td>IT</td>\n",
       "      <td>0.00</td>\n",
       "      <td>0.00</td>\n",
       "      <td>AVS Verona</td>\n",
       "      <td>Pegase</td>\n",
       "      <td>11:35</td>\n",
       "      <td>11:54</td>\n",
       "      <td>Velenje Lajše</td>\n",
       "    </tr>\n",
       "  </tbody>\n",
       "</table>\n",
       "<p>880 rows × 11 columns</p>\n",
       "</div>"
      ],
      "text/plain": [
       "         Datum   Točke             Ime Država  Dolžina [km]  Hitrost [km/h]  \\\n",
       "0   2017-08-31  115.55      Jure Sirok     SI         81.30           51.24   \n",
       "1   2017-08-15  175.14    Sandi Stanic     SI        163.82           62.43   \n",
       "2   2017-08-15  150.70     Aljaž Ogrin     SI        102.85           43.90   \n",
       "3   2017-08-15  147.97  Darjo Gregoric     SI        116.64           55.02   \n",
       "4   2017-08-01  152.25     Aljaž Ogrin     SI        104.78           48.42   \n",
       "5   2017-07-28    0.00     Aljaž Ogrin     SI        218.66           48.81   \n",
       "6   2017-07-19    0.00     Aljaž Ogrin     SI        171.02           52.66   \n",
       "7   2017-07-08    0.00     Aljaž Ogrin     SI         69.19           39.54   \n",
       "8   2017-07-05    0.00      Jure Sirok     SI         71.41           28.29   \n",
       "9   2017-07-05    0.00  Črtomir Pavlin     SI        118.22           38.79   \n",
       "..         ...     ...             ...    ...           ...             ...   \n",
       "870 2017-06-19  355.31   Nikolaj Slana     SI        390.47           60.45   \n",
       "871 2017-06-19  325.59       Ales Fink     SI        319.39           67.80   \n",
       "872 2017-06-11  251.92       Joze Knap     SI        224.15           39.65   \n",
       "873 2017-05-18  305.90   Nikolaj Slana     SI        337.23           61.24   \n",
       "874 2017-04-30  464.85    Goran Hrustl     SI        464.28           73.83   \n",
       "875 2017-04-30  384.94   Nikolaj Slana     SI        442.76           89.37   \n",
       "876 2017-04-09  365.10    Goran Hrustl     SI        326.07           55.15   \n",
       "877 2017-04-08  291.51    Goran Hrustl     SI        270.69           60.76   \n",
       "878 2017-04-08  213.26       Joze Knap     SI        187.41           44.66   \n",
       "879 2017-03-22    0.00   Simone Poiani     IT          0.00            0.00   \n",
       "\n",
       "                           Klub             Letalo  Vzlet Pristanek  \\\n",
       "0              AK Edvard Rusjan        L 13 Blanik  11:55     13:41   \n",
       "1              AK Edvard Rusjan             SZD 55  13:05     15:51   \n",
       "2    AK Josip Krizaj Ajdovscina  L 23 Super Blanik  11:54     14:39   \n",
       "3              AK Edvard Rusjan      Twin Astir RG  12:33     15:14   \n",
       "4    AK Josip Krizaj Ajdovscina        L 13 Blanik  11:51     14:34   \n",
       "5    AK Josip Krizaj Ajdovscina             DG 100  10:57     15:38   \n",
       "6    AK Josip Krizaj Ajdovscina             DG 100  10:59     14:53   \n",
       "7    AK Josip Krizaj Ajdovscina             DG 100  13:15     15:33   \n",
       "8              AK Edvard Rusjan        L 13 Blanik  11:14     14:13   \n",
       "9              AK Edvard Rusjan      Twin Astir RG  11:29     14:52   \n",
       "..                          ...                ...    ...       ...   \n",
       "870                     No Club         DG 800/18m  09:20     15:54   \n",
       "871                         KAS         DG 500 20m  09:28     14:14   \n",
       "872                         KAS           Astir CS  09:56     15:53   \n",
       "873                     No Club         DG 800/18m  09:24     15:03   \n",
       "874                  AK-Gorenje             DG 300  09:40     16:15   \n",
       "875                     No Club         DG 800/18m  09:57     15:01   \n",
       "876                  AK-Gorenje             DG 300  09:40     16:24   \n",
       "877                  AK-Gorenje             DG 300  10:59     15:56   \n",
       "878                         KAS     DG 505 6 Orion  11:11     15:54   \n",
       "879                  AVS Verona             Pegase  11:35     11:54   \n",
       "\n",
       "         Letališče  \n",
       "0       Ajdovščina  \n",
       "1       Ajdovščina  \n",
       "2       Ajdovščina  \n",
       "3       Ajdovščina  \n",
       "4       Ajdovščina  \n",
       "5       Ajdovščina  \n",
       "6       Ajdovščina  \n",
       "7       Ajdovščina  \n",
       "8       Ajdovščina  \n",
       "9       Ajdovščina  \n",
       "..             ...  \n",
       "870  Velenje Lajše  \n",
       "871  Velenje Lajše  \n",
       "872  Velenje Lajše  \n",
       "873  Velenje Lajše  \n",
       "874  Velenje Lajše  \n",
       "875  Velenje Lajše  \n",
       "876  Velenje Lajše  \n",
       "877  Velenje Lajše  \n",
       "878  Velenje Lajše  \n",
       "879  Velenje Lajše  \n",
       "\n",
       "[880 rows x 11 columns]"
      ]
     },
     "execution_count": 107,
     "metadata": {},
     "output_type": "execute_result"
    }
   ],
   "source": [
    "leti"
   ]
  },
  {
   "cell_type": "markdown",
   "metadata": {},
   "source": [
    "### Najboljše razmere"
   ]
  },
  {
   "cell_type": "markdown",
   "metadata": {},
   "source": [
    "Najprej si oglejmo datume, ki so bili primerni za letenje."
   ]
  },
  {
   "cell_type": "code",
   "execution_count": 122,
   "metadata": {},
   "outputs": [
    {
     "data": {
      "text/plain": [
       "Datum\n",
       "2017-04-09    44\n",
       "2017-04-30    42\n",
       "2017-04-10    41\n",
       "2017-06-11    24\n",
       "2017-05-06    23\n",
       "2017-04-14    22\n",
       "2017-04-02    20\n",
       "2017-04-01    19\n",
       "2017-04-08    19\n",
       "2017-05-27    19\n",
       "              ..\n",
       "2017-03-30     1\n",
       "2017-07-30     1\n",
       "2017-07-27     1\n",
       "2017-07-02     1\n",
       "2017-06-22     1\n",
       "2017-06-01     1\n",
       "2017-05-31     1\n",
       "2017-04-16     1\n",
       "2017-05-29     1\n",
       "2017-03-23     1\n",
       "Length: 129, dtype: int64"
      ]
     },
     "execution_count": 122,
     "metadata": {},
     "output_type": "execute_result"
    }
   ],
   "source": [
    "leti.groupby('Datum').size().sort_values(ascending=False)"
   ]
  },
  {
   "cell_type": "markdown",
   "metadata": {},
   "source": [
    "Vidimo, da je bilo v sezoni 2017 129 dni primernih za letenje, saj je bil tiste dni opravljen vsaj en let."
   ]
  },
  {
   "cell_type": "code",
   "execution_count": 229,
   "metadata": {},
   "outputs": [
    {
     "data": {
      "text/plain": [
       "<matplotlib.axes._subplots.AxesSubplot at 0x211f5630f28>"
      ]
     },
     "execution_count": 229,
     "metadata": {},
     "output_type": "execute_result"
    },
    {
     "data": {
      "image/png": "[encoded data removed]",
      "text/plain": [
       "<matplotlib.figure.Figure at 0x211f558c0f0>"
      ]
     },
     "metadata": {},
     "output_type": "display_data"
    }
   ],
   "source": [
    "leti.groupby('Datum').size().to_frame('Število letov').plot(figsize=(15,5), title='Priljubljenost datumov')"
   ]
  },
  {
   "cell_type": "markdown",
   "metadata": {},
   "source": [
    "Vidimo, da je bilo v sezoni 2017 129 dni primernih za letenje, saj je bil tiste dni opravljen vsaj en let. Od teh so bili najbolj popularni tisti med aprilom in septembrom."
   ]
  },
  {
   "cell_type": "code",
   "execution_count": 172,
   "metadata": {
    "collapsed": true
   },
   "outputs": [],
   "source": [
    "# Dodan mesec v razpredelnico.\n",
    "leti['Mesec'] = leti['Datum'].dt.month"
   ]
  },
  {
   "cell_type": "code",
   "execution_count": 228,
   "metadata": {},
   "outputs": [
    {
     "data": {
      "text/plain": [
       "Mesec\n",
       "4     311\n",
       "7     152\n",
       "5     147\n",
       "8      95\n",
       "6      95\n",
       "9      36\n",
       "3      27\n",
       "12      9\n",
       "10      5\n",
       "1       2\n",
       "2       1\n",
       "dtype: int64"
      ]
     },
     "execution_count": 228,
     "metadata": {},
     "output_type": "execute_result"
    }
   ],
   "source": [
    "leti[['Mesec', 'Datum']].groupby('Mesec').size().sort_values(ascending=False)"
   ]
  },
  {
   "cell_type": "markdown",
   "metadata": {},
   "source": [
    "Najbolj popularni meseci so od aprila do avgusta."
   ]
  },
  {
   "cell_type": "markdown",
   "metadata": {},
   "source": [
    "Ker si piloti želijo opraviti čim daljše lete, se bomo zdaj pri analiziranju najboljših razmer osredotočili na letališča in dolžine letov. Poskušali bomo ugotoviti, kje in kdaj nastajajo najdaljši leti."
   ]
  },
  {
   "cell_type": "code",
   "execution_count": 189,
   "metadata": {},
   "outputs": [
    {
     "data": {
      "text/html": [
       "<div>\n",
       "<style>\n",
       "    .dataframe thead tr:only-child th {\n",
       "        text-align: right;\n",
       "    }\n",
       "\n",
       "    .dataframe thead th {\n",
       "        text-align: left;\n",
       "    }\n",
       "\n",
       "    .dataframe tbody tr th {\n",
       "        vertical-align: top;\n",
       "    }\n",
       "</style>\n",
       "<table border=\"1\" class=\"dataframe\">\n",
       "  <thead>\n",
       "    <tr style=\"text-align: right;\">\n",
       "      <th></th>\n",
       "      <th>Dolžina [km]</th>\n",
       "      <th>Letališče</th>\n",
       "    </tr>\n",
       "  </thead>\n",
       "  <tbody>\n",
       "    <tr>\n",
       "      <th>815</th>\n",
       "      <td>999.45</td>\n",
       "      <td>Ptuj Moškanjci</td>\n",
       "    </tr>\n",
       "    <tr>\n",
       "      <th>259</th>\n",
       "      <td>989.71</td>\n",
       "      <td>Lesce Bled</td>\n",
       "    </tr>\n",
       "    <tr>\n",
       "      <th>455</th>\n",
       "      <td>975.72</td>\n",
       "      <td>Lesce Bled</td>\n",
       "    </tr>\n",
       "    <tr>\n",
       "      <th>451</th>\n",
       "      <td>921.17</td>\n",
       "      <td>Lesce Bled</td>\n",
       "    </tr>\n",
       "    <tr>\n",
       "      <th>459</th>\n",
       "      <td>920.86</td>\n",
       "      <td>Lesce Bled</td>\n",
       "    </tr>\n",
       "    <tr>\n",
       "      <th>224</th>\n",
       "      <td>898.99</td>\n",
       "      <td>Lesce Bled</td>\n",
       "    </tr>\n",
       "    <tr>\n",
       "      <th>470</th>\n",
       "      <td>875.17</td>\n",
       "      <td>Lesce Bled</td>\n",
       "    </tr>\n",
       "    <tr>\n",
       "      <th>254</th>\n",
       "      <td>866.40</td>\n",
       "      <td>Lesce Bled</td>\n",
       "    </tr>\n",
       "    <tr>\n",
       "      <th>265</th>\n",
       "      <td>852.73</td>\n",
       "      <td>Lesce Bled</td>\n",
       "    </tr>\n",
       "    <tr>\n",
       "      <th>264</th>\n",
       "      <td>851.50</td>\n",
       "      <td>Lesce Bled</td>\n",
       "    </tr>\n",
       "    <tr>\n",
       "      <th>456</th>\n",
       "      <td>825.25</td>\n",
       "      <td>Lesce Bled</td>\n",
       "    </tr>\n",
       "    <tr>\n",
       "      <th>457</th>\n",
       "      <td>825.06</td>\n",
       "      <td>Lesce Bled</td>\n",
       "    </tr>\n",
       "    <tr>\n",
       "      <th>446</th>\n",
       "      <td>809.47</td>\n",
       "      <td>Lesce Bled</td>\n",
       "    </tr>\n",
       "    <tr>\n",
       "      <th>452</th>\n",
       "      <td>805.20</td>\n",
       "      <td>Lesce Bled</td>\n",
       "    </tr>\n",
       "    <tr>\n",
       "      <th>447</th>\n",
       "      <td>761.51</td>\n",
       "      <td>Lesce Bled</td>\n",
       "    </tr>\n",
       "    <tr>\n",
       "      <th>463</th>\n",
       "      <td>749.13</td>\n",
       "      <td>Lesce Bled</td>\n",
       "    </tr>\n",
       "    <tr>\n",
       "      <th>460</th>\n",
       "      <td>745.91</td>\n",
       "      <td>Lesce Bled</td>\n",
       "    </tr>\n",
       "    <tr>\n",
       "      <th>321</th>\n",
       "      <td>744.58</td>\n",
       "      <td>Lesce Bled</td>\n",
       "    </tr>\n",
       "    <tr>\n",
       "      <th>461</th>\n",
       "      <td>742.74</td>\n",
       "      <td>Lesce Bled</td>\n",
       "    </tr>\n",
       "    <tr>\n",
       "      <th>424</th>\n",
       "      <td>727.47</td>\n",
       "      <td>Lesce Bled</td>\n",
       "    </tr>\n",
       "  </tbody>\n",
       "</table>\n",
       "</div>"
      ],
      "text/plain": [
       "     Dolžina [km]       Letališče\n",
       "815        999.45  Ptuj Moškanjci\n",
       "259        989.71      Lesce Bled\n",
       "455        975.72      Lesce Bled\n",
       "451        921.17      Lesce Bled\n",
       "459        920.86      Lesce Bled\n",
       "224        898.99      Lesce Bled\n",
       "470        875.17      Lesce Bled\n",
       "254        866.40      Lesce Bled\n",
       "265        852.73      Lesce Bled\n",
       "264        851.50      Lesce Bled\n",
       "456        825.25      Lesce Bled\n",
       "457        825.06      Lesce Bled\n",
       "446        809.47      Lesce Bled\n",
       "452        805.20      Lesce Bled\n",
       "447        761.51      Lesce Bled\n",
       "463        749.13      Lesce Bled\n",
       "460        745.91      Lesce Bled\n",
       "321        744.58      Lesce Bled\n",
       "461        742.74      Lesce Bled\n",
       "424        727.47      Lesce Bled"
      ]
     },
     "execution_count": 189,
     "metadata": {},
     "output_type": "execute_result"
    }
   ],
   "source": [
    "leti[['Dolžina [km]', 'Letališče']].sort_values('Dolžina [km]', ascending=False)[:20]"
   ]
  },
  {
   "cell_type": "markdown",
   "metadata": {},
   "source": [
    "Najdaljši leti v sezoni 2017 so nastajali večinoma na letališču Lesce Bled. Zanima me, ali je to le dosti izjem, ali so tudi v povprečju tam nastajali najdaljši leti."
   ]
  },
  {
   "cell_type": "code",
   "execution_count": 184,
   "metadata": {},
   "outputs": [
    {
     "data": {
      "text/html": [
       "<div>\n",
       "<style>\n",
       "    .dataframe thead tr:only-child th {\n",
       "        text-align: right;\n",
       "    }\n",
       "\n",
       "    .dataframe thead th {\n",
       "        text-align: left;\n",
       "    }\n",
       "\n",
       "    .dataframe tbody tr th {\n",
       "        vertical-align: top;\n",
       "    }\n",
       "</style>\n",
       "<table border=\"1\" class=\"dataframe\">\n",
       "  <thead>\n",
       "    <tr style=\"text-align: right;\">\n",
       "      <th></th>\n",
       "      <th>Dolžina [km]</th>\n",
       "    </tr>\n",
       "    <tr>\n",
       "      <th>Letališče</th>\n",
       "      <th></th>\n",
       "    </tr>\n",
       "  </thead>\n",
       "  <tbody>\n",
       "    <tr>\n",
       "      <th>Cerklje</th>\n",
       "      <td>343.080000</td>\n",
       "    </tr>\n",
       "    <tr>\n",
       "      <th>Lesce Bled</th>\n",
       "      <td>339.762233</td>\n",
       "    </tr>\n",
       "    <tr>\n",
       "      <th>Slovenj Gradec</th>\n",
       "      <td>331.673636</td>\n",
       "    </tr>\n",
       "    <tr>\n",
       "      <th>Velenje Lajše</th>\n",
       "      <td>311.819091</td>\n",
       "    </tr>\n",
       "    <tr>\n",
       "      <th>Celje</th>\n",
       "      <td>266.250000</td>\n",
       "    </tr>\n",
       "    <tr>\n",
       "      <th>Murska Sobota</th>\n",
       "      <td>230.047391</td>\n",
       "    </tr>\n",
       "    <tr>\n",
       "      <th>Maribor</th>\n",
       "      <td>218.490893</td>\n",
       "    </tr>\n",
       "    <tr>\n",
       "      <th>Ptuj Moškanjci</th>\n",
       "      <td>214.175047</td>\n",
       "    </tr>\n",
       "    <tr>\n",
       "      <th>Novo mesto</th>\n",
       "      <td>206.752955</td>\n",
       "    </tr>\n",
       "    <tr>\n",
       "      <th>Postojna</th>\n",
       "      <td>192.540380</td>\n",
       "    </tr>\n",
       "    <tr>\n",
       "      <th>Ajdovščina</th>\n",
       "      <td>170.463929</td>\n",
       "    </tr>\n",
       "    <tr>\n",
       "      <th>Bovec</th>\n",
       "      <td>100.489167</td>\n",
       "    </tr>\n",
       "  </tbody>\n",
       "</table>\n",
       "</div>"
      ],
      "text/plain": [
       "                Dolžina [km]\n",
       "Letališče                   \n",
       "Cerklje           343.080000\n",
       "Lesce Bled        339.762233\n",
       "Slovenj Gradec    331.673636\n",
       "Velenje Lajše     311.819091\n",
       "Celje             266.250000\n",
       "Murska Sobota     230.047391\n",
       "Maribor           218.490893\n",
       "Ptuj Moškanjci    214.175047\n",
       "Novo mesto        206.752955\n",
       "Postojna          192.540380\n",
       "Ajdovščina        170.463929\n",
       "Bovec             100.489167"
      ]
     },
     "execution_count": 184,
     "metadata": {},
     "output_type": "execute_result"
    }
   ],
   "source": [
    "leti[['Letališče', 'Dolžina [km]']].groupby('Letališče').mean().sort_values('Dolžina [km]', ascending=False)"
   ]
  },
  {
   "cell_type": "markdown",
   "metadata": {},
   "source": [
    "Poglejmo še bolj natančno kombinacijo letov po mesecih in lokacijo."
   ]
  },
  {
   "cell_type": "code",
   "execution_count": 234,
   "metadata": {},
   "outputs": [
    {
     "data": {
      "text/html": [
       "<div>\n",
       "<style>\n",
       "    .dataframe thead tr:only-child th {\n",
       "        text-align: right;\n",
       "    }\n",
       "\n",
       "    .dataframe thead th {\n",
       "        text-align: left;\n",
       "    }\n",
       "\n",
       "    .dataframe tbody tr th {\n",
       "        vertical-align: top;\n",
       "    }\n",
       "</style>\n",
       "<table border=\"1\" class=\"dataframe\">\n",
       "  <thead>\n",
       "    <tr style=\"text-align: right;\">\n",
       "      <th></th>\n",
       "      <th>Mesec</th>\n",
       "      <th>Letališče</th>\n",
       "      <th>Dolžina [km]</th>\n",
       "    </tr>\n",
       "  </thead>\n",
       "  <tbody>\n",
       "    <tr>\n",
       "      <th>4</th>\n",
       "      <td>3</td>\n",
       "      <td>Lesce Bled</td>\n",
       "      <td>536.974286</td>\n",
       "    </tr>\n",
       "    <tr>\n",
       "      <th>9</th>\n",
       "      <td>3</td>\n",
       "      <td>Ptuj Moškanjci</td>\n",
       "      <td>509.980000</td>\n",
       "    </tr>\n",
       "    <tr>\n",
       "      <th>51</th>\n",
       "      <td>7</td>\n",
       "      <td>Velenje Lajše</td>\n",
       "      <td>467.560000</td>\n",
       "    </tr>\n",
       "    <tr>\n",
       "      <th>0</th>\n",
       "      <td>1</td>\n",
       "      <td>Maribor</td>\n",
       "      <td>437.910000</td>\n",
       "    </tr>\n",
       "    <tr>\n",
       "      <th>14</th>\n",
       "      <td>4</td>\n",
       "      <td>Lesce Bled</td>\n",
       "      <td>364.999879</td>\n",
       "    </tr>\n",
       "    <tr>\n",
       "      <th>34</th>\n",
       "      <td>6</td>\n",
       "      <td>Celje</td>\n",
       "      <td>355.626429</td>\n",
       "    </tr>\n",
       "    <tr>\n",
       "      <th>25</th>\n",
       "      <td>5</td>\n",
       "      <td>Lesce Bled</td>\n",
       "      <td>346.753571</td>\n",
       "    </tr>\n",
       "    <tr>\n",
       "      <th>3</th>\n",
       "      <td>3</td>\n",
       "      <td>Cerklje</td>\n",
       "      <td>343.080000</td>\n",
       "    </tr>\n",
       "    <tr>\n",
       "      <th>20</th>\n",
       "      <td>4</td>\n",
       "      <td>Slovenj Gradec</td>\n",
       "      <td>339.140000</td>\n",
       "    </tr>\n",
       "    <tr>\n",
       "      <th>45</th>\n",
       "      <td>7</td>\n",
       "      <td>Lesce Bled</td>\n",
       "      <td>338.979302</td>\n",
       "    </tr>\n",
       "  </tbody>\n",
       "</table>\n",
       "</div>"
      ],
      "text/plain": [
       "    Mesec       Letališče  Dolžina [km]\n",
       "4       3      Lesce Bled    536.974286\n",
       "9       3  Ptuj Moškanjci    509.980000\n",
       "51      7   Velenje Lajše    467.560000\n",
       "0       1         Maribor    437.910000\n",
       "14      4      Lesce Bled    364.999879\n",
       "34      6           Celje    355.626429\n",
       "25      5      Lesce Bled    346.753571\n",
       "3       3         Cerklje    343.080000\n",
       "20      4  Slovenj Gradec    339.140000\n",
       "45      7      Lesce Bled    338.979302"
      ]
     },
     "execution_count": 234,
     "metadata": {},
     "output_type": "execute_result"
    }
   ],
   "source": [
    "leti[['Letališče', 'Dolžina [km]', 'Mesec']].groupby(['Mesec', 'Letališče'], as_index=False)['Dolžina [km]'].mean().sort_values('Dolžina [km]', ascending=False)[:10]"
   ]
  },
  {
   "cell_type": "markdown",
   "metadata": {},
   "source": [
    "Tu je zbranih 10 najboljših kombinacij za lokacijo in mesec, ko so v povprečju nastajali najdaljši leti. V dosti primerih so meseci izven najbolj popularnih. Skoraj brez dvoma lahko za najboljšo lokacijo izberemo Lesce Bled."
   ]
  },
  {
   "cell_type": "markdown",
   "metadata": {},
   "source": [
    "### O pilotih"
   ]
  },
  {
   "cell_type": "code",
   "execution_count": 99,
   "metadata": {},
   "outputs": [
    {
     "data": {
      "text/plain": [
       "Država\n",
       "SI    627\n",
       "DE    224\n",
       "IT     17\n",
       "PL      8\n",
       "AT      4\n",
       "dtype: int64"
      ]
     },
     "execution_count": 99,
     "metadata": {},
     "output_type": "execute_result"
    }
   ],
   "source": [
    "leti.groupby('Država').size().sort_values(ascending=False)"
   ]
  },
  {
   "cell_type": "markdown",
   "metadata": {},
   "source": [
    "Opazimo, da pri nas leti presenetljivo veliko Nemcev, medtem ko pilotov iz sosednjih držav skoraj ni."
   ]
  },
  {
   "cell_type": "code",
   "execution_count": 211,
   "metadata": {
    "collapsed": true
   },
   "outputs": [],
   "source": [
    "def graf(tabela, stolpec, naslov, imena):\n",
    "    leti = pd.concat([tabela[tabela.Država == 'SI'][stolpec].value_counts(), \n",
    "                    tabela[tabela.Država == 'DE'][stolpec].value_counts(), \n",
    "                    tabela[tabela.Država == 'IT'][stolpec].value_counts(), \n",
    "                    tabela[tabela.Država == 'PL'][stolpec].value_counts(), \n",
    "                    tabela[tabela.Država == 'AT'][stolpec].value_counts()], \n",
    "                   axis=1)\n",
    "    leti.columns = imena\n",
    "    return leti.plot(kind='bar', fontsize='12',title=naslov, figsize=(15,5))"
   ]
  },
  {
   "cell_type": "code",
   "execution_count": 212,
   "metadata": {},
   "outputs": [
    {
     "data": {
      "text/plain": [
       "<matplotlib.axes._subplots.AxesSubplot at 0x211f34f6780>"
      ]
     },
     "execution_count": 212,
     "metadata": {},
     "output_type": "execute_result"
    },
    {
     "data": {
      "image/png": "[encoded data removed]",
      "text/plain": [
       "<matplotlib.figure.Figure at 0x211f326c3c8>"
      ]
     },
     "metadata": {},
     "output_type": "display_data"
    }
   ],
   "source": [
    "graf(leti, 'Letališče', 'Primerjava obiskanosti letališč pilotov iz različnih držav', \n",
    "    ['SI', 'DE', 'IT', 'PL', 'AT'])"
   ]
  },
  {
   "cell_type": "markdown",
   "metadata": {},
   "source": [
    "V Lescah in Slovenj Gradcu leti celo več Nemcev kot Slovencev. V Lesce gredo najraje tudi Poljaki in Avstrijci, Italijani pa raje letijo v Bovcu."
   ]
  },
  {
   "cell_type": "code",
   "execution_count": 181,
   "metadata": {
    "collapsed": true
   },
   "outputs": [],
   "source": [
    "leti_tujih_pilotov = leti[leti.Država != 'SI']"
   ]
  },
  {
   "cell_type": "code",
   "execution_count": 116,
   "metadata": {},
   "outputs": [
    {
     "data": {
      "text/plain": [
       "<matplotlib.axes._subplots.AxesSubplot at 0x2393393e9e8>"
      ]
     },
     "execution_count": 116,
     "metadata": {},
     "output_type": "execute_result"
    },
    {
     "data": {
      "image/png": "[encoded data removed]",
      "text/plain": [
       "<matplotlib.figure.Figure at 0x23933948400>"
      ]
     },
     "metadata": {},
     "output_type": "display_data"
    }
   ],
   "source": [
    "leti_tujih_pilotov.groupby('Letališče').size().plot(kind='bar')"
   ]
  },
  {
   "cell_type": "markdown",
   "metadata": {},
   "source": [
    "V prejšnjem razdelku smo ugotovili, da Lesce Bled ponuja najboljše razmere. Verjetno je tudi zato bolj popularen za tuje pilote."
   ]
  },
  {
   "cell_type": "code",
   "execution_count": 232,
   "metadata": {},
   "outputs": [
    {
     "data": {
      "text/plain": [
       "<matplotlib.axes._subplots.AxesSubplot at 0x211f5cb72b0>"
      ]
     },
     "execution_count": 232,
     "metadata": {},
     "output_type": "execute_result"
    },
    {
     "data": {
      "image/png": "[encoded data removed]",
      "text/plain": [
       "<matplotlib.figure.Figure at 0x211f5cc8c18>"
      ]
     },
     "metadata": {},
     "output_type": "display_data"
    }
   ],
   "source": [
    "leti[['Ime', 'Dolžina [km]']].groupby('Ime').sum().sort_values('Dolžina [km]', ascending=False)[:30].plot(kind='bar', figsize=(15, 5), title='Preletene razdalje pilotov')"
   ]
  },
  {
   "cell_type": "code",
   "execution_count": 239,
   "metadata": {},
   "outputs": [
    {
     "data": {
      "text/plain": [
       "<matplotlib.axes._subplots.AxesSubplot at 0x211f6bb5dd8>"
      ]
     },
     "execution_count": 239,
     "metadata": {},
     "output_type": "execute_result"
    },
    {
     "data": {
      "image/png": "[encoded data removed]",
      "text/plain": [
       "<matplotlib.figure.Figure at 0x211f67ddf98>"
      ]
     },
     "metadata": {},
     "output_type": "display_data"
    }
   ],
   "source": [
    "leti[['Ime', 'Dolžina [km]']].groupby('Ime').mean().sort_values('Dolžina [km]', ascending=False)[:50].plot(title='Povprečne preletene razdalje pilotov', kind='bar', figsize=(15, 5))"
   ]
  },
  {
   "cell_type": "markdown",
   "metadata": {},
   "source": [
    "### Najboljši slovenski klubi"
   ]
  },
  {
   "cell_type": "code",
   "execution_count": 242,
   "metadata": {
    "collapsed": true
   },
   "outputs": [],
   "source": [
    "leti_slovenskih_pilotov = leti[leti.Država == 'SI']"
   ]
  },
  {
   "cell_type": "code",
   "execution_count": 244,
   "metadata": {},
   "outputs": [
    {
     "data": {
      "text/plain": [
       "Klub\n",
       "AK Ptuj                       116\n",
       "ALC Lesce/Bled                102\n",
       "AK Novo mesto                  90\n",
       "AK Celje                       69\n",
       "LC Maribor                     62\n",
       "AK Edvard Rusjan               57\n",
       "AK Postojna                    55\n",
       "AK Murska Sobota               24\n",
       "AK Ljubljana                   19\n",
       " No Club                       12\n",
       "KAS                             5\n",
       "DLC                             5\n",
       "AK Josip Krizaj Ajdovscina      5\n",
       "celje                           3\n",
       "AK-Gorenje                      3\n",
       "dtype: int64"
      ]
     },
     "execution_count": 244,
     "metadata": {},
     "output_type": "execute_result"
    }
   ],
   "source": [
    "leti_slovenskih_pilotov.groupby('Klub').size().sort_values(ascending=False)"
   ]
  },
  {
   "cell_type": "code",
   "execution_count": 248,
   "metadata": {
    "collapsed": true
   },
   "outputs": [],
   "source": [
    "preletena_dolzina = leti_slovenskih_pilotov[['Dolžina [km]', 'Klub']].groupby('Klub').sum().sort_values('Dolžina [km]', ascending=False)"
   ]
  },
  {
   "cell_type": "code",
   "execution_count": 250,
   "metadata": {},
   "outputs": [
    {
     "data": {
      "text/html": [
       "<div>\n",
       "<style>\n",
       "    .dataframe thead tr:only-child th {\n",
       "        text-align: right;\n",
       "    }\n",
       "\n",
       "    .dataframe thead th {\n",
       "        text-align: left;\n",
       "    }\n",
       "\n",
       "    .dataframe tbody tr th {\n",
       "        vertical-align: top;\n",
       "    }\n",
       "</style>\n",
       "<table border=\"1\" class=\"dataframe\">\n",
       "  <thead>\n",
       "    <tr style=\"text-align: right;\">\n",
       "      <th></th>\n",
       "      <th>Dolžina [km]</th>\n",
       "    </tr>\n",
       "    <tr>\n",
       "      <th>Klub</th>\n",
       "      <th></th>\n",
       "    </tr>\n",
       "  </thead>\n",
       "  <tbody>\n",
       "    <tr>\n",
       "      <th>ALC Lesce/Bled</th>\n",
       "      <td>41282.53</td>\n",
       "    </tr>\n",
       "    <tr>\n",
       "      <th>AK Ptuj</th>\n",
       "      <td>23640.54</td>\n",
       "    </tr>\n",
       "    <tr>\n",
       "      <th>AK Celje</th>\n",
       "      <td>21008.37</td>\n",
       "    </tr>\n",
       "    <tr>\n",
       "      <th>AK Novo mesto</th>\n",
       "      <td>18622.96</td>\n",
       "    </tr>\n",
       "    <tr>\n",
       "      <th>LC Maribor</th>\n",
       "      <td>13344.87</td>\n",
       "    </tr>\n",
       "    <tr>\n",
       "      <th>AK Postojna</th>\n",
       "      <td>11102.91</td>\n",
       "    </tr>\n",
       "    <tr>\n",
       "      <th>AK Edvard Rusjan</th>\n",
       "      <td>9106.77</td>\n",
       "    </tr>\n",
       "    <tr>\n",
       "      <th>AK Murska Sobota</th>\n",
       "      <td>5528.70</td>\n",
       "    </tr>\n",
       "    <tr>\n",
       "      <th>AK Ljubljana</th>\n",
       "      <td>4809.39</td>\n",
       "    </tr>\n",
       "    <tr>\n",
       "      <th>No Club</th>\n",
       "      <td>1708.68</td>\n",
       "    </tr>\n",
       "    <tr>\n",
       "      <th>KAS</th>\n",
       "      <td>1291.26</td>\n",
       "    </tr>\n",
       "    <tr>\n",
       "      <th>AK-Gorenje</th>\n",
       "      <td>1061.04</td>\n",
       "    </tr>\n",
       "    <tr>\n",
       "      <th>AK Josip Krizaj Ajdovscina</th>\n",
       "      <td>666.50</td>\n",
       "    </tr>\n",
       "    <tr>\n",
       "      <th>DLC</th>\n",
       "      <td>419.62</td>\n",
       "    </tr>\n",
       "    <tr>\n",
       "      <th>celje</th>\n",
       "      <td>133.64</td>\n",
       "    </tr>\n",
       "  </tbody>\n",
       "</table>\n",
       "</div>"
      ],
      "text/plain": [
       "                            Dolžina [km]\n",
       "Klub                                    \n",
       "ALC Lesce/Bled                  41282.53\n",
       "AK Ptuj                         23640.54\n",
       "AK Celje                        21008.37\n",
       "AK Novo mesto                   18622.96\n",
       "LC Maribor                      13344.87\n",
       "AK Postojna                     11102.91\n",
       "AK Edvard Rusjan                 9106.77\n",
       "AK Murska Sobota                 5528.70\n",
       "AK Ljubljana                     4809.39\n",
       " No Club                         1708.68\n",
       "KAS                              1291.26\n",
       "AK-Gorenje                       1061.04\n",
       "AK Josip Krizaj Ajdovscina        666.50\n",
       "DLC                               419.62\n",
       "celje                             133.64"
      ]
     },
     "execution_count": 250,
     "metadata": {},
     "output_type": "execute_result"
    }
   ],
   "source": [
    "preletena_dolzina"
   ]
  },
  {
   "cell_type": "code",
   "execution_count": 251,
   "metadata": {
    "collapsed": true
   },
   "outputs": [],
   "source": [
    "povprecna_dolzina = leti_slovenskih_pilotov[['Dolžina [km]', 'Klub']].groupby('Klub').mean().sort_values('Dolžina [km]', ascending=False)"
   ]
  },
  {
   "cell_type": "code",
   "execution_count": 252,
   "metadata": {},
   "outputs": [
    {
     "data": {
      "text/html": [
       "<div>\n",
       "<style>\n",
       "    .dataframe thead tr:only-child th {\n",
       "        text-align: right;\n",
       "    }\n",
       "\n",
       "    .dataframe thead th {\n",
       "        text-align: left;\n",
       "    }\n",
       "\n",
       "    .dataframe tbody tr th {\n",
       "        vertical-align: top;\n",
       "    }\n",
       "</style>\n",
       "<table border=\"1\" class=\"dataframe\">\n",
       "  <thead>\n",
       "    <tr style=\"text-align: right;\">\n",
       "      <th></th>\n",
       "      <th>Dolžina [km]</th>\n",
       "    </tr>\n",
       "    <tr>\n",
       "      <th>Klub</th>\n",
       "      <th></th>\n",
       "    </tr>\n",
       "  </thead>\n",
       "  <tbody>\n",
       "    <tr>\n",
       "      <th>ALC Lesce/Bled</th>\n",
       "      <td>404.730686</td>\n",
       "    </tr>\n",
       "    <tr>\n",
       "      <th>AK-Gorenje</th>\n",
       "      <td>353.680000</td>\n",
       "    </tr>\n",
       "    <tr>\n",
       "      <th>AK Celje</th>\n",
       "      <td>304.469130</td>\n",
       "    </tr>\n",
       "    <tr>\n",
       "      <th>KAS</th>\n",
       "      <td>258.252000</td>\n",
       "    </tr>\n",
       "    <tr>\n",
       "      <th>AK Ljubljana</th>\n",
       "      <td>253.125789</td>\n",
       "    </tr>\n",
       "    <tr>\n",
       "      <th>AK Murska Sobota</th>\n",
       "      <td>230.362500</td>\n",
       "    </tr>\n",
       "    <tr>\n",
       "      <th>LC Maribor</th>\n",
       "      <td>215.239839</td>\n",
       "    </tr>\n",
       "    <tr>\n",
       "      <th>AK Novo mesto</th>\n",
       "      <td>206.921778</td>\n",
       "    </tr>\n",
       "    <tr>\n",
       "      <th>AK Ptuj</th>\n",
       "      <td>203.797759</td>\n",
       "    </tr>\n",
       "    <tr>\n",
       "      <th>AK Postojna</th>\n",
       "      <td>201.871091</td>\n",
       "    </tr>\n",
       "    <tr>\n",
       "      <th>AK Edvard Rusjan</th>\n",
       "      <td>159.767895</td>\n",
       "    </tr>\n",
       "    <tr>\n",
       "      <th>No Club</th>\n",
       "      <td>142.390000</td>\n",
       "    </tr>\n",
       "    <tr>\n",
       "      <th>AK Josip Krizaj Ajdovscina</th>\n",
       "      <td>133.300000</td>\n",
       "    </tr>\n",
       "    <tr>\n",
       "      <th>DLC</th>\n",
       "      <td>83.924000</td>\n",
       "    </tr>\n",
       "    <tr>\n",
       "      <th>celje</th>\n",
       "      <td>44.546667</td>\n",
       "    </tr>\n",
       "  </tbody>\n",
       "</table>\n",
       "</div>"
      ],
      "text/plain": [
       "                            Dolžina [km]\n",
       "Klub                                    \n",
       "ALC Lesce/Bled                404.730686\n",
       "AK-Gorenje                    353.680000\n",
       "AK Celje                      304.469130\n",
       "KAS                           258.252000\n",
       "AK Ljubljana                  253.125789\n",
       "AK Murska Sobota              230.362500\n",
       "LC Maribor                    215.239839\n",
       "AK Novo mesto                 206.921778\n",
       "AK Ptuj                       203.797759\n",
       "AK Postojna                   201.871091\n",
       "AK Edvard Rusjan              159.767895\n",
       " No Club                      142.390000\n",
       "AK Josip Krizaj Ajdovscina    133.300000\n",
       "DLC                            83.924000\n",
       "celje                          44.546667"
      ]
     },
     "execution_count": 252,
     "metadata": {},
     "output_type": "execute_result"
    }
   ],
   "source": [
    "povprecna_dolzina"
   ]
  },
  {
   "cell_type": "code",
   "execution_count": 253,
   "metadata": {
    "collapsed": true
   },
   "outputs": [],
   "source": [
    "povprecna_hitrost = leti_slovenskih_pilotov[['Hitrost [km/h]', 'Klub']].groupby('Klub').mean().sort_values('Hitrost [km/h]', ascending=False)"
   ]
  },
  {
   "cell_type": "code",
   "execution_count": 254,
   "metadata": {},
   "outputs": [
    {
     "data": {
      "text/html": [
       "<div>\n",
       "<style>\n",
       "    .dataframe thead tr:only-child th {\n",
       "        text-align: right;\n",
       "    }\n",
       "\n",
       "    .dataframe thead th {\n",
       "        text-align: left;\n",
       "    }\n",
       "\n",
       "    .dataframe tbody tr th {\n",
       "        vertical-align: top;\n",
       "    }\n",
       "</style>\n",
       "<table border=\"1\" class=\"dataframe\">\n",
       "  <thead>\n",
       "    <tr style=\"text-align: right;\">\n",
       "      <th></th>\n",
       "      <th>Hitrost [km/h]</th>\n",
       "    </tr>\n",
       "    <tr>\n",
       "      <th>Klub</th>\n",
       "      <th></th>\n",
       "    </tr>\n",
       "  </thead>\n",
       "  <tbody>\n",
       "    <tr>\n",
       "      <th>ALC Lesce/Bled</th>\n",
       "      <td>74.856961</td>\n",
       "    </tr>\n",
       "    <tr>\n",
       "      <th>AK Celje</th>\n",
       "      <td>65.597101</td>\n",
       "    </tr>\n",
       "    <tr>\n",
       "      <th>AK-Gorenje</th>\n",
       "      <td>63.246667</td>\n",
       "    </tr>\n",
       "    <tr>\n",
       "      <th>AK Murska Sobota</th>\n",
       "      <td>61.659583</td>\n",
       "    </tr>\n",
       "    <tr>\n",
       "      <th>AK Ljubljana</th>\n",
       "      <td>60.730000</td>\n",
       "    </tr>\n",
       "    <tr>\n",
       "      <th>AK Edvard Rusjan</th>\n",
       "      <td>59.475263</td>\n",
       "    </tr>\n",
       "    <tr>\n",
       "      <th>AK Postojna</th>\n",
       "      <td>55.598000</td>\n",
       "    </tr>\n",
       "    <tr>\n",
       "      <th>AK Novo mesto</th>\n",
       "      <td>55.387889</td>\n",
       "    </tr>\n",
       "    <tr>\n",
       "      <th>LC Maribor</th>\n",
       "      <td>51.033387</td>\n",
       "    </tr>\n",
       "    <tr>\n",
       "      <th>KAS</th>\n",
       "      <td>50.742000</td>\n",
       "    </tr>\n",
       "    <tr>\n",
       "      <th>AK Josip Krizaj Ajdovscina</th>\n",
       "      <td>46.666000</td>\n",
       "    </tr>\n",
       "    <tr>\n",
       "      <th>AK Ptuj</th>\n",
       "      <td>46.226983</td>\n",
       "    </tr>\n",
       "    <tr>\n",
       "      <th>No Club</th>\n",
       "      <td>40.945000</td>\n",
       "    </tr>\n",
       "    <tr>\n",
       "      <th>DLC</th>\n",
       "      <td>36.540000</td>\n",
       "    </tr>\n",
       "    <tr>\n",
       "      <th>celje</th>\n",
       "      <td>21.593333</td>\n",
       "    </tr>\n",
       "  </tbody>\n",
       "</table>\n",
       "</div>"
      ],
      "text/plain": [
       "                            Hitrost [km/h]\n",
       "Klub                                      \n",
       "ALC Lesce/Bled                   74.856961\n",
       "AK Celje                         65.597101\n",
       "AK-Gorenje                       63.246667\n",
       "AK Murska Sobota                 61.659583\n",
       "AK Ljubljana                     60.730000\n",
       "AK Edvard Rusjan                 59.475263\n",
       "AK Postojna                      55.598000\n",
       "AK Novo mesto                    55.387889\n",
       "LC Maribor                       51.033387\n",
       "KAS                              50.742000\n",
       "AK Josip Krizaj Ajdovscina       46.666000\n",
       "AK Ptuj                          46.226983\n",
       " No Club                         40.945000\n",
       "DLC                              36.540000\n",
       "celje                            21.593333"
      ]
     },
     "execution_count": 254,
     "metadata": {},
     "output_type": "execute_result"
    }
   ],
   "source": [
    "povprecna_hitrost"
   ]
  },
  {
   "cell_type": "markdown",
   "metadata": {},
   "source": [
    "Piloti iz ALC Lesce Bled so v sezoni 2017 delali najhitrejše in najdaljše lete."
   ]
  },
  {
   "cell_type": "markdown",
   "metadata": {},
   "source": [
    "### Splošno"
   ]
  },
  {
   "cell_type": "markdown",
   "metadata": {},
   "source": [
    "Zanima me še, če obstaja kakšna povezava med hitrostjo in dolžino leta."
   ]
  },
  {
   "cell_type": "code",
   "execution_count": 268,
   "metadata": {},
   "outputs": [
    {
     "data": {
      "text/plain": [
       "<matplotlib.axes._subplots.AxesSubplot at 0x211f72d4828>"
      ]
     },
     "execution_count": 268,
     "metadata": {},
     "output_type": "execute_result"
    },
    {
     "data": {
      "image/png": "[encoded data removed]",
      "text/plain": [
       "<matplotlib.figure.Figure at 0x211f72c55c0>"
      ]
     },
     "metadata": {},
     "output_type": "display_data"
    }
   ],
   "source": [
    "leti.sort_values('Dolžina [km]', ascending=True).plot(figsize=(15,5), x='Dolžina [km]', y='Hitrost [km/h]', kind='scatter')"
   ]
  },
  {
   "cell_type": "markdown",
   "metadata": {},
   "source": [
    "Iz grafa lahko razberemo, da so bili daljši leti tudi hitrejši. Vidimo pa tudi, da se je podobne hitrosti dalo pridobiti tudi na krajših letih."
   ]
  },
  {
   "cell_type": "markdown",
   "metadata": {},
   "source": [
    "## Zaključek"
   ]
  },
  {
   "cell_type": "code",
   "execution_count": 270,
   "metadata": {},
   "outputs": [
    {
     "data": {
      "text/plain": [
       "<matplotlib.axes._subplots.AxesSubplot at 0x211f7352da0>"
      ]
     },
     "execution_count": 270,
     "metadata": {},
     "output_type": "execute_result"
    },
    {
     "data": {
      "image/png": "[encoded data removed]",
      "text/plain": [
       "<matplotlib.figure.Figure at 0x211f72f47f0>"
      ]
     },
     "metadata": {},
     "output_type": "display_data"
    }
   ],
   "source": [
    "leti.groupby('Letališče').size().to_frame('Število letov').sort_values('Število letov', ascending=False).plot(kind='bar')"
   ]
  },
  {
   "cell_type": "code",
   "execution_count": 271,
   "metadata": {},
   "outputs": [
    {
     "data": {
      "text/plain": [
       "Datum\n",
       "2017-04-20    711.640000\n",
       "2017-04-06    587.958750\n",
       "2017-07-06    578.022857\n",
       "2017-05-26    485.500000\n",
       "2017-04-03    480.322000\n",
       "Name: Dolžina [km], dtype: float64"
      ]
     },
     "execution_count": 271,
     "metadata": {},
     "output_type": "execute_result"
    }
   ],
   "source": [
    "leti.groupby('Datum')['Dolžina [km]'].mean().sort_values(ascending=False)[:5]"
   ]
  },
  {
   "cell_type": "code",
   "execution_count": null,
   "metadata": {
    "collapsed": true
   },
   "outputs": [],
   "source": []
  }
 ],
 "metadata": {
  "kernelspec": {
   "display_name": "Python 3",
   "language": "python",
   "name": "python3"
  },
  "language_info": {
   "codemirror_mode": {
    "name": "ipython",
    "version": 3
   },
   "file_extension": ".py",
   "mimetype": "text/x-python",
   "name": "python",
   "nbconvert_exporter": "python",
   "pygments_lexer": "ipython3",
   "version": "3.6.3"
  }
 },
 "nbformat": 4,
 "nbformat_minor": 2
}
